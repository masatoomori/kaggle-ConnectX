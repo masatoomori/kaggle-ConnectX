{
 "cells": [
  {
   "attachments": {},
   "cell_type": "markdown",
   "metadata": {},
   "source": [
    "reference:\n",
    "- https://www.kaggle.com/code/pelinkeskin/deep-rl-with-stable-baseline3-and-gymnasium-ppo"
   ]
  },
  {
   "cell_type": "code",
   "execution_count": null,
   "metadata": {},
   "outputs": [],
   "source": [
    "%load_ext autoreload\n",
    "%autoreload 2"
   ]
  },
  {
   "cell_type": "code",
   "execution_count": null,
   "metadata": {},
   "outputs": [],
   "source": [
    "import os\n",
    "\n",
    "import pandas as pd\n",
    "import matplotlib.pyplot as plt\n",
    "import torch as th\n",
    "from torch import nn\n",
    "from stable_baselines3 import PPO\n",
    "from stable_baselines3.common.monitor import Monitor\n",
    "from stable_baselines3.common.vec_env import DummyVecEnv\n",
    "from stable_baselines3.common.callbacks import EvalCallback, StopTrainingOnNoModelImprovement\n",
    "from stable_baselines3.common.monitor import load_results\n",
    "from stable_baselines3.common.torch_layers import NatureCNN\n",
    "from stable_baselines3.common.policies import ActorCriticPolicy, ActorCriticCnnPolicy"
   ]
  },
  {
   "cell_type": "code",
   "execution_count": null,
   "metadata": {},
   "outputs": [],
   "source": [
    "pd.set_option('display.max_rows', 100)\n",
    "pd.set_option('display.max_columns', 100)\n",
    "pd.set_option('display.width', 1000)"
   ]
  },
  {
   "cell_type": "code",
   "execution_count": null,
   "metadata": {},
   "outputs": [],
   "source": [
    "LOG_DIR = os.path.join(os.getcwd(), 'log')\t# トレーニングのログを保存するディレクトリ\n",
    "os.makedirs(LOG_DIR, exist_ok=True)\n",
    "\n",
    "MODEL_DIR = os.path.join(os.pardir, 'models')\t# トレーニング済みモデルを保存するディレクトリ\n",
    "os.makedirs(MODEL_DIR, exist_ok=True)\n",
    "\n",
    "MODEL_PATH = os.path.join(MODEL_DIR, 'connectx_model')\t# トレーニング済みモデルのパス"
   ]
  },
  {
   "attachments": {},
   "cell_type": "markdown",
   "metadata": {},
   "source": [
    "環境"
   ]
  },
  {
   "cell_type": "code",
   "execution_count": null,
   "metadata": {},
   "outputs": [],
   "source": [
    "# 環境の作成\n",
    "from environment import ConnectFourGym\n",
    "\n",
    "training_env = ConnectFourGym(opponent='random')\n",
    "training_env"
   ]
  },
  {
   "cell_type": "code",
   "execution_count": null,
   "metadata": {},
   "outputs": [],
   "source": [
    "# ログを取得する\n",
    "training_env = Monitor(training_env, LOG_DIR, allow_early_resets=True)\n",
    "training_env"
   ]
  },
  {
   "cell_type": "code",
   "execution_count": null,
   "metadata": {},
   "outputs": [],
   "source": [
    "# 「DummyVecEnv」は、OpenAI Gymの環境をベクトル化するための特殊なラッパーです。\n",
    "# 通常、強化学習アルゴリズムは一度に1つの環境しか処理できませんが、これを使用することで\n",
    "# 複数の環境を同時に実行することができます。これにより、学習プロセスが効率的になります。\n",
    "training_env = DummyVecEnv([lambda: training_env])\n",
    "training_env"
   ]
  },
  {
   "cell_type": "code",
   "execution_count": null,
   "metadata": {},
   "outputs": [],
   "source": [
    "training_env.observation_space.sample()"
   ]
  },
  {
   "attachments": {},
   "cell_type": "markdown",
   "metadata": {},
   "source": [
    "Training my vector agent with SB3 PPO Algorithm"
   ]
  },
  {
   "cell_type": "code",
   "execution_count": null,
   "metadata": {},
   "outputs": [],
   "source": [
    "#code ref: https://github.com/araffin/rl-baselines-zoo/blob/master/utils/utils.py#L225\n",
    "def liner_schedule(initial_value: float):\n",
    "\t\"\"\"\n",
    "\tLinear learning rate schedule.\n",
    "\t:param initial_value: (float)\n",
    "\t:return: (function)\n",
    "\t\"\"\"\n",
    "\tdef func(progress_remaining: float) -> float:\n",
    "\t\t\"\"\"\n",
    "\t\tProgress will decrease from 1 (beginning) to 0\n",
    "\t\t:param progress_remaining: (float)\n",
    "\t\t:return: (float)\n",
    "\t\t\"\"\"\n",
    "\t\treturn progress_remaining * initial_value\n",
    "\treturn func"
   ]
  },
  {
   "cell_type": "code",
   "execution_count": null,
   "metadata": {},
   "outputs": [],
   "source": [
    "# from agent import CustomCNN"
   ]
  },
  {
   "cell_type": "code",
   "execution_count": null,
   "metadata": {},
   "outputs": [],
   "source": [
    "\n",
    "if os.path.exists(MODEL_PATH):\n",
    "    print('Loading existing model...')\n",
    "    agent = PPO.load(MODEL_PATH, env=training_env, verbose=0)\n",
    "else:\n",
    "    print('Training new model...')\n",
    "    agent = PPO(\n",
    "        policy='MlpPolicy',\t# ネットワークアーキテクチャ\n",
    "        env=training_env,\n",
    "        n_steps=1536,\n",
    "        ent_coef=0.001,\t# この値が大きいほど、エージェントはさまざまなアクションを試行する傾向があります\n",
    "        n_epochs=8,\n",
    "        gae_lambda=0.95,\t# Generalized Advantage Estimator。報酬の割引率を制御し、エージェントが将来の報酬にどれだけ価値を置くかを調節\n",
    "        learning_rate=liner_schedule(3e-4),\n",
    "        batch_size=512,\n",
    "        clip_range=0.4,\t# PPOのクリップ範囲。PPOは勾配の更新を制限（クリップ）することで、学習の安定性を向上させます\n",
    "        policy_kwargs={\n",
    "            # 'features_extractor_class': CustomCNN,\t# 特徴抽出器のクラス\n",
    "            'log_std_init': -2,\t# ログスケールでの標準偏差の初期値\n",
    "            'ortho_init': False,\t# 直交初期化の有無\n",
    "        },\n",
    "        verbose=1\n",
    "    )"
   ]
  },
  {
   "cell_type": "code",
   "execution_count": null,
   "metadata": {},
   "outputs": [],
   "source": [
    "print(agent.policy)"
   ]
  },
  {
   "cell_type": "code",
   "execution_count": null,
   "metadata": {},
   "outputs": [],
   "source": [
    "eval_env = ConnectFourGym()\n",
    "eval_env = Monitor(eval_env, LOG_DIR)\n",
    "eval_env = DummyVecEnv([lambda: eval_env])\n",
    "\n",
    "eval_callback = EvalCallback(eval_env,\n",
    "                             best_model_save_path=LOG_DIR,\n",
    "                             log_path=LOG_DIR,\n",
    "                             eval_freq=1000,\n",
    "                             render=False)"
   ]
  },
  {
   "cell_type": "code",
   "execution_count": null,
   "metadata": {},
   "outputs": [],
   "source": [
    "for key, p in agent.get_parameters()['policy'].items():\n",
    "    print(key, p.numel())\n",
    "print(f\"Total number of trainable parameters: {sum(p.numel() for ey, p in agent.get_parameters()['policy'].items())}\")"
   ]
  },
  {
   "cell_type": "code",
   "execution_count": null,
   "metadata": {},
   "outputs": [],
   "source": [
    "# Train the model for a large number of timesteps\n",
    "agent.learn(\n",
    "    total_timesteps=50000,\n",
    "    reset_num_timesteps=True,\n",
    "    callback=eval_callback\n",
    ")"
   ]
  }
 ],
 "metadata": {
  "kernelspec": {
   "display_name": ".venv",
   "language": "python",
   "name": "python3"
  },
  "language_info": {
   "codemirror_mode": {
    "name": "ipython",
    "version": 3
   },
   "file_extension": ".py",
   "mimetype": "text/x-python",
   "name": "python",
   "nbconvert_exporter": "python",
   "pygments_lexer": "ipython3",
   "version": "3.11.4"
  },
  "orig_nbformat": 4
 },
 "nbformat": 4,
 "nbformat_minor": 2
}
