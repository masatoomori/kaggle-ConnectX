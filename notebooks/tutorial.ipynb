{
 "cells": [
  {
   "attachments": {},
   "cell_type": "markdown",
   "metadata": {},
   "source": [
    "reference:\n",
    "- https://www.kaggle.com/code/toshikazuwatanabe/connect4-make-submission-with-stable-baselines3\n",
    "- https://www.kaggle.com/code/kubamaliszewski/connectx-ppo"
   ]
  },
  {
   "cell_type": "code",
   "execution_count": null,
   "metadata": {},
   "outputs": [],
   "source": [
    "%load_ext autoreload\n",
    "%autoreload 2"
   ]
  },
  {
   "cell_type": "code",
   "execution_count": null,
   "metadata": {},
   "outputs": [],
   "source": [
    "import os\n",
    "\n",
    "import torch as th\n",
    "from torch import nn\n",
    "from stable_baselines3 import PPO\n",
    "from stable_baselines3.common.monitor import Monitor\n",
    "from stable_baselines3.common.vec_env import DummyVecEnv\n",
    "from stable_baselines3.common.monitor import load_results\n",
    "from stable_baselines3.common.torch_layers import NatureCNN\n",
    "from stable_baselines3.common.policies import ActorCriticPolicy, ActorCriticCnnPolicy"
   ]
  },
  {
   "cell_type": "code",
   "execution_count": null,
   "metadata": {},
   "outputs": [],
   "source": [
    "LOG_DIR = os.path.join(os.getcwd(), 'log')\t# トレーニングのログを保存するディレクトリ\n",
    "os.makedirs(LOG_DIR, exist_ok=True)\n",
    "\n",
    "MODEL_DIR = os.path.join(os.pardir, 'models')\t# トレーニング済みモデルを保存するディレクトリ\n",
    "os.makedirs(MODEL_DIR, exist_ok=True)\n",
    "\n",
    "MODEL_PATH = os.path.join(MODEL_DIR, 'connectx_model')\t# トレーニング済みモデルのパス"
   ]
  },
  {
   "cell_type": "markdown",
   "metadata": {},
   "source": [
    "環境"
   ]
  },
  {
   "cell_type": "code",
   "execution_count": null,
   "metadata": {},
   "outputs": [],
   "source": [
    "# 環境の作成\n",
    "from environment import ConnectFourGym\n",
    "\n",
    "training_env = ConnectFourGym(opponent='random')\n",
    "training_env"
   ]
  },
  {
   "cell_type": "code",
   "execution_count": null,
   "metadata": {},
   "outputs": [],
   "source": [
    "# ログを取得する\n",
    "training_env = Monitor(training_env, LOG_DIR, allow_early_resets=True)\n",
    "training_env"
   ]
  },
  {
   "cell_type": "code",
   "execution_count": null,
   "metadata": {},
   "outputs": [],
   "source": [
    "# 「DummyVecEnv」は、OpenAI Gymの環境をベクトル化するための特殊なラッパーです。\n",
    "# 通常、強化学習アルゴリズムは一度に1つの環境しか処理できませんが、これを使用することで\n",
    "# 複数の環境を同時に実行することができます。これにより、学習プロセスが効率的になります。\n",
    "training_env = DummyVecEnv([lambda: training_env])\n",
    "training_env"
   ]
  },
  {
   "cell_type": "code",
   "execution_count": null,
   "metadata": {},
   "outputs": [],
   "source": [
    "training_env.observation_space.sample()"
   ]
  },
  {
   "cell_type": "markdown",
   "metadata": {},
   "source": [
    "モデル"
   ]
  },
  {
   "cell_type": "code",
   "execution_count": null,
   "metadata": {},
   "outputs": [],
   "source": [
    "from agent import CustomCNN"
   ]
  },
  {
   "cell_type": "code",
   "execution_count": null,
   "metadata": {},
   "outputs": [],
   "source": [
    "POLICY_KWARGS = {\n",
    "    'features_extractor_class': CustomCNN,\n",
    "    'activation_fn': nn.ReLU, # ポリシーの中間層における活性化関数をReLU関数に設定\n",
    "    'net_arch':[\n",
    "        64,                 # 共有層（Shared Layer）に関する層\n",
    "        dict(\n",
    "            pi=[32, 16],    # 方策（Policy）に関する層\n",
    "            vf=[32, 16]     # 価値関数（Value Function）に関する層\n",
    "            )\n",
    "        ],\n",
    "    'features_extractor_kwargs': dict(features_dim = 768)   # CNNの出力次元数を768に設定\n",
    "}"
   ]
  },
  {
   "cell_type": "code",
   "execution_count": null,
   "metadata": {},
   "outputs": [],
   "source": [
    "if os.path.exists(MODEL_PATH):\n",
    "    print('Loading existing model...')\n",
    "    agent = PPO.load(MODEL_PATH, env=training_env, verbose=0)\n",
    "else:\n",
    "    print('Training new model...')\n",
    "    agent = PPO(\n",
    "        policy='MlpPolicy',\n",
    "        env=training_env,\n",
    "        policy_kwargs=POLICY_KWARGS,\n",
    "        verbose=0,\n",
    "\t)\n",
    "\n",
    "print(agent.policy)"
   ]
  }
 ],
 "metadata": {
  "kernelspec": {
   "display_name": ".venv",
   "language": "python",
   "name": "python3"
  },
  "language_info": {
   "codemirror_mode": {
    "name": "ipython",
    "version": 3
   },
   "file_extension": ".py",
   "mimetype": "text/x-python",
   "name": "python",
   "nbconvert_exporter": "python",
   "pygments_lexer": "ipython3",
   "version": "3.7.17"
  },
  "orig_nbformat": 4
 },
 "nbformat": 4,
 "nbformat_minor": 2
}
