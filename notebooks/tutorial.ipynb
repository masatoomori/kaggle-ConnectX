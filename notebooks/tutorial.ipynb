{
 "cells": [
  {
   "attachments": {},
   "cell_type": "markdown",
   "metadata": {},
   "source": [
    "reference: https://www.kaggle.com/code/toshikazuwatanabe/connect4-make-submission-with-stable-baselines3"
   ]
  },
  {
   "cell_type": "code",
   "execution_count": null,
   "metadata": {},
   "outputs": [],
   "source": [
    "%load_ext autoreload\n",
    "%autoreload 2"
   ]
  },
  {
   "cell_type": "code",
   "execution_count": null,
   "metadata": {},
   "outputs": [],
   "source": [
    "import os\n",
    "import numpy as np\n",
    "import torch as th\n",
    "from torch import nn as nn\n",
    "import torch.nn.functional as F\n",
    "\n",
    "from stable_baselines3 import PPO\n",
    "from stable_baselines3.common.monitor import Monitor\n",
    "from stable_baselines3.common.vec_env import DummyVecEnv\n",
    "from stable_baselines3.common.monitor import load_results\n",
    "from stable_baselines3.common.torch_layers import NatureCNN\n",
    "from stable_baselines3.common.policies import ActorCriticPolicy, ActorCriticCnnPolicy\n",
    "from stable_baselines3.common.torch_layers import BaseFeaturesExtractor"
   ]
  },
  {
   "cell_type": "code",
   "execution_count": null,
   "metadata": {},
   "outputs": [],
   "source": [
    "LOG_DIR = os.path.join(os.getcwd(), 'logs')\t# トレーニングのログを保存するディレクトリ\n",
    "os.makedirs(LOG_DIR, exist_ok=True)"
   ]
  },
  {
   "cell_type": "code",
   "execution_count": null,
   "metadata": {},
   "outputs": [],
   "source": [
    "# 環境の作成\n",
    "from environment import ConnectFourGym\n",
    "\n",
    "env = ConnectFourGym()\n",
    "env"
   ]
  },
  {
   "cell_type": "code",
   "execution_count": null,
   "metadata": {},
   "outputs": [],
   "source": [
    "# ログを取得する\n",
    "env = Monitor(env, LOG_DIR, allow_early_resets=True)\n",
    "env"
   ]
  },
  {
   "cell_type": "code",
   "execution_count": null,
   "metadata": {},
   "outputs": [],
   "source": [
    "# 「DummyVecEnv」は、OpenAI Gymの環境をベクトル化するための特殊なラッパーです。\n",
    "# 通常、強化学習アルゴリズムは一度に1つの環境しか処理できませんが、これを使用することで\n",
    "# 複数の環境を同時に実行することができます。これにより、学習プロセスが効率的になります。\n",
    "env = DummyVecEnv([lambda: env])\n",
    "env"
   ]
  }
 ],
 "metadata": {
  "kernelspec": {
   "display_name": ".venv",
   "language": "python",
   "name": "python3"
  },
  "language_info": {
   "codemirror_mode": {
    "name": "ipython",
    "version": 3
   },
   "file_extension": ".py",
   "mimetype": "text/x-python",
   "name": "python",
   "nbconvert_exporter": "python",
   "pygments_lexer": "ipython3",
   "version": "3.7.17"
  },
  "orig_nbformat": 4
 },
 "nbformat": 4,
 "nbformat_minor": 2
}
