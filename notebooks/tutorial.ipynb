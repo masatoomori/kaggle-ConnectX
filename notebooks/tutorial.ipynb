{
 "cells": [
  {
   "attachments": {},
   "cell_type": "markdown",
   "metadata": {},
   "source": [
    "reference:\n",
    "- https://www.kaggle.com/code/pelinkeskin/deep-rl-with-stable-baseline3-and-gymnasium-ppo"
   ]
  },
  {
   "cell_type": "code",
   "execution_count": null,
   "metadata": {},
   "outputs": [],
   "source": [
    "%load_ext autoreload\n",
    "%autoreload 2"
   ]
  },
  {
   "cell_type": "code",
   "execution_count": null,
   "metadata": {},
   "outputs": [],
   "source": [
    "import os\n",
    "\n",
    "import numpy as np\n",
    "import pandas as pd\n",
    "import matplotlib.pyplot as plt\n",
    "import stable_baselines3 as sb3\n",
    "from stable_baselines3 import PPO\n",
    "from stable_baselines3.common.monitor import Monitor\n",
    "from stable_baselines3.common.vec_env import DummyVecEnv\n",
    "from stable_baselines3.common.callbacks import EvalCallback, StopTrainingOnNoModelImprovement\n",
    "from stable_baselines3.common.monitor import load_results\n",
    "from stable_baselines3.common.torch_layers import NatureCNN\n",
    "from stable_baselines3.common.policies import ActorCriticPolicy, ActorCriticCnnPolicy\n",
    "from stable_baselines3.common.env_checker import check_env\n",
    "from kaggle_environments import make, evaluate"
   ]
  },
  {
   "cell_type": "code",
   "execution_count": null,
   "metadata": {},
   "outputs": [],
   "source": [
    "pd.set_option('display.max_rows', 100)\n",
    "pd.set_option('display.max_columns', 100)\n",
    "pd.set_option('display.width', 1000)"
   ]
  },
  {
   "cell_type": "code",
   "execution_count": null,
   "metadata": {},
   "outputs": [],
   "source": [
    "LOG_DIR = os.path.join(os.getcwd(), 'log')\t# トレーニングのログを保存するディレクトリ\n",
    "os.makedirs(LOG_DIR, exist_ok=True)\n",
    "\n",
    "MODEL_DIR = os.path.join(os.pardir, 'models')\t# トレーニング済みモデルを保存するディレクトリ\n",
    "os.makedirs(MODEL_DIR, exist_ok=True)\n",
    "\n",
    "MODEL_PATH = os.path.join(MODEL_DIR, 'connectx_model')\t# トレーニング済みモデルのパス"
   ]
  },
  {
   "attachments": {},
   "cell_type": "markdown",
   "metadata": {},
   "source": [
    "環境"
   ]
  },
  {
   "cell_type": "code",
   "execution_count": null,
   "metadata": {},
   "outputs": [],
   "source": [
    "# 環境の作成\n",
    "from environment import ConnectFourGym\n",
    "\n",
    "training_env = ConnectFourGym(opponent='random')\n",
    "training_env"
   ]
  },
  {
   "cell_type": "code",
   "execution_count": null,
   "metadata": {},
   "outputs": [],
   "source": [
    "check_env(training_env, warn=True)"
   ]
  },
  {
   "cell_type": "code",
   "execution_count": null,
   "metadata": {},
   "outputs": [],
   "source": [
    "# ログを取得する\n",
    "training_env = Monitor(training_env, LOG_DIR, allow_early_resets=True)\n",
    "training_env"
   ]
  },
  {
   "cell_type": "code",
   "execution_count": null,
   "metadata": {},
   "outputs": [],
   "source": [
    "# 「DummyVecEnv」は、OpenAI Gymの環境をベクトル化するための特殊なラッパーです。\n",
    "# 通常、強化学習アルゴリズムは一度に1つの環境しか処理できませんが、これを使用することで\n",
    "# 複数の環境を同時に実行することができます。これにより、学習プロセスが効率的になります。\n",
    "training_env = DummyVecEnv([lambda: training_env])\n",
    "training_env"
   ]
  },
  {
   "cell_type": "code",
   "execution_count": null,
   "metadata": {},
   "outputs": [],
   "source": [
    "training_env.observation_space.sample()"
   ]
  },
  {
   "attachments": {},
   "cell_type": "markdown",
   "metadata": {},
   "source": [
    "Training my vector agent with SB3 PPO Algorithm"
   ]
  },
  {
   "cell_type": "code",
   "execution_count": null,
   "metadata": {},
   "outputs": [],
   "source": [
    "#code ref: https://github.com/araffin/rl-baselines-zoo/blob/master/utils/utils.py#L225\n",
    "def liner_schedule(initial_value: float):\n",
    "\t\"\"\"\n",
    "\tLinear learning rate schedule.\n",
    "\t:param initial_value: (float)\n",
    "\t:return: (function)\n",
    "\t\"\"\"\n",
    "\tdef func(progress_remaining: float) -> float:\n",
    "\t\t\"\"\"\n",
    "\t\tProgress will decrease from 1 (beginning) to 0\n",
    "\t\t:param progress_remaining: (float)\n",
    "\t\t:return: (float)\n",
    "\t\t\"\"\"\n",
    "\t\treturn progress_remaining * initial_value\n",
    "\treturn func"
   ]
  },
  {
   "attachments": {},
   "cell_type": "markdown",
   "metadata": {},
   "source": [
    "このPPOエージェントのアーキテクチャはpolicy='MlpPolicy'という引数によって指定されています。ここで'MlpPolicy'はMulti-Layer Perceptron(MLP、多層パーセプトロン)を使用することを意味します。\n",
    "\n",
    "この'policy'引数は、エージェントが取るべき行動を決定する際に使用するニューラルネットワークの形状や種類を決定します。'MlpPolicy'は全結合のニューラルネットワークを使用します。\n",
    "\n",
    "このネットワークの詳細なアーキテクチャ（例えば層の数、ノードの数、活性化関数等）は、ライブラリ（Stable Baselines3）内部で定義されています。具体的な設定を変更したい場合はpolicy_kwargs引数を使用してカスタマイズすることが可能です。\n",
    "\n",
    "また、特定の問題に対して特殊なネットワークアーキテクチャを使用したい場合は、自分で定義したカスタムポリシーを作成し、そのポリシーを使用することも可能です。これは例えば、畳み込みニューラルネットワーク(CNN)やリカレントニューラルネットワーク(RNN)を使用したい場合などに有用です。"
   ]
  },
  {
   "cell_type": "code",
   "execution_count": null,
   "metadata": {},
   "outputs": [],
   "source": [
    "\n",
    "if os.path.exists(MODEL_PATH):\n",
    "    print('Loading existing model...')\n",
    "    agent = PPO.load(MODEL_PATH, env=training_env, verbose=0)\n",
    "else:\n",
    "    print('Training new model...')\n",
    "    agent = PPO(\n",
    "        policy='MlpPolicy',\t# ネットワークアーキテクチャ\n",
    "        env=training_env,\n",
    "        n_steps=1536,\n",
    "        ent_coef=0.001,\t# この値が大きいほど、エージェントはさまざまなアクションを試行する傾向があります\n",
    "        n_epochs=8,\n",
    "        gae_lambda=0.95,\t# Generalized Advantage Estimator。報酬の割引率を制御し、エージェントが将来の報酬にどれだけ価値を置くかを調節\n",
    "        learning_rate=liner_schedule(3e-4),\n",
    "        batch_size=512,\n",
    "        clip_range=0.4,\t# PPOのクリップ範囲。PPOは勾配の更新を制限（クリップ）することで、学習の安定性を向上させます\n",
    "        policy_kwargs={\n",
    "            'log_std_init': -2,\t# ログスケールでの標準偏差の初期値\n",
    "            'ortho_init': False,\t# 直交初期化の有無\n",
    "        },\n",
    "        verbose=1\n",
    "    )"
   ]
  },
  {
   "cell_type": "code",
   "execution_count": null,
   "metadata": {},
   "outputs": [],
   "source": [
    "print(agent.policy)"
   ]
  },
  {
   "cell_type": "code",
   "execution_count": null,
   "metadata": {},
   "outputs": [],
   "source": [
    "eval_env = ConnectFourGym()\n",
    "eval_env = Monitor(eval_env, LOG_DIR)\n",
    "eval_env = DummyVecEnv([lambda: eval_env])\n",
    "\n",
    "eval_callback = EvalCallback(eval_env,\n",
    "                             best_model_save_path=LOG_DIR,\n",
    "                             log_path=LOG_DIR,\n",
    "                             eval_freq=1000,\n",
    "                             render=False)"
   ]
  },
  {
   "cell_type": "code",
   "execution_count": null,
   "metadata": {},
   "outputs": [],
   "source": [
    "for key, p in agent.get_parameters()['policy'].items():\n",
    "    print(key, p.numel())\n",
    "print(f\"Total number of trainable parameters: {sum(p.numel() for ey, p in agent.get_parameters()['policy'].items())}\")"
   ]
  },
  {
   "cell_type": "code",
   "execution_count": null,
   "metadata": {},
   "outputs": [],
   "source": [
    "# Train the model for a large number of timesteps\n",
    "agent.learn(\n",
    "    total_timesteps=50000,\n",
    "    reset_num_timesteps=True,\n",
    "    callback=eval_callback\n",
    ")"
   ]
  },
  {
   "cell_type": "code",
   "execution_count": null,
   "metadata": {},
   "outputs": [],
   "source": [
    "evaluation_lof_file = os.path.join(LOG_DIR, 'evaluations.npz')\n",
    "evaluation_log = np.load(evaluation_lof_file)\n",
    "df_evaluation_log = pd.DataFrame({item: [np.mean(ep) for ep in evaluation_log[item]] for item in evaluation_log.files})\n",
    "\n",
    "df_evaluation_log.head()"
   ]
  },
  {
   "cell_type": "code",
   "execution_count": null,
   "metadata": {},
   "outputs": [],
   "source": [
    "ax = df_evaluation_log.loc[0: len(df_evaluation_log), 'results'].plot(color='lightgray', xlim=[0, len(df_evaluation_log)], figsize = (10,5))\n",
    "df_evaluation_log['results'].rolling(5).mean().plot(color='black', xlim=[0, len(df_evaluation_log)])\n",
    "ax.set_xticklabels(df_evaluation_log['timesteps'])\n",
    "ax.set_xlabel(\"Eval Episode\")\n",
    "plt.ylabel(\"Rolling Mean Cumulative Return\")\n",
    "plt.show()"
   ]
  },
  {
   "cell_type": "code",
   "execution_count": null,
   "metadata": {},
   "outputs": [],
   "source": [
    "# まず、agent.set_env(eval_env)はエージェントの評価環境を設定します。エージェントはeval_envという環境で評価されることになります。これは通常、トレーニング環境とは異なり、より一般的な環境か、または一部がランダム化された環境であることが多いです。\n",
    "# 次にmean_reward, std_reward = sb3.common.evaluation.evaluate_policy(agent, agent.get_env(), n_eval_episodes=30)についてです。この行は、評価環境上でのエージェントの性能を評価します。具体的には、エージェントがn_eval_episodes=30（つまり30回のエピソード）でどの程度の報酬を得られるかを評価します。これはエージェントが新たな環境でどの程度うまく動くか（つまりどの程度汎用性があるか）を評価するために行われます。\n",
    "# 得られた結果は、30エピソードの平均報酬（mean_reward）と報酬の標準偏差（std_reward）として出力されます。これらの値が高いほど、エージェントは評価環境で高い報酬を得られることが確かであり、したがってエージェントの性能が良いと言えます。\n",
    "# 最後に、print(\"Mean Reward: {} +/- {}\".format(mean_reward, std_reward))は、計算された平均報酬と標準偏差を表示します。これにより、ユーザーはエージェントの性能を確認することができます。\n",
    "\n",
    "agent.set_env(eval_env)\n",
    "mean_reward, std_reward = sb3.common.evaluation.evaluate_policy(agent, agent.get_env(), n_eval_episodes=30)\n",
    "\n",
    "print(\"Mean Reward: {} +/- {}\".format(mean_reward, std_reward))"
   ]
  },
  {
   "cell_type": "code",
   "execution_count": null,
   "metadata": {},
   "outputs": [],
   "source": [
    "agent.save(MODEL_PATH)"
   ]
  },
  {
   "attachments": {},
   "cell_type": "markdown",
   "metadata": {},
   "source": [
    "エージェントの評価"
   ]
  },
  {
   "cell_type": "code",
   "execution_count": null,
   "metadata": {},
   "outputs": [],
   "source": [
    "agent.predict(training_env.reset())"
   ]
  },
  {
   "cell_type": "code",
   "execution_count": null,
   "metadata": {},
   "outputs": [],
   "source": [
    "def testagent(observation, config):\n",
    "    import numpy as np\n",
    "    observation = np.array(observation['board']).reshape(1, config.rows, config.columns)\n",
    "    action, _ = agent.predict(observation)\n",
    "    return int(action)"
   ]
  },
  {
   "cell_type": "code",
   "execution_count": null,
   "metadata": {},
   "outputs": [],
   "source": [
    "def get_win_percentages(agent1, agent2, n_rounds=100):\n",
    "    # Use default Connect Four setup\n",
    "    config = {'rows': 6, 'columns': 7, 'inarow': 4}\n",
    "    # Agent 1 goes first (roughly) half the time\n",
    "    outcomes = evaluate(\"connectx\", [agent1, agent2], config, [], n_rounds // 2)\n",
    "    # Agent 2 goes first (roughly) half the time\n",
    "    outcomes += [[b, a] for [a, b] in evaluate(\"connectx\", [agent2, agent1], config, [], n_rounds - n_rounds // 2)]\n",
    "    print(\"Agent 1 Win Percentage:\", np.round(outcomes.count([1, -1]) / len(outcomes), 2))\n",
    "    print(\"Agent 2 Win Percentage:\", np.round(outcomes.count([-1, 1] ) /len(outcomes), 2))\n",
    "    print(\"Number of Invalid Plays by Agent 1:\", outcomes.count([None, 0]))\n",
    "    print(\"Number of Invalid Plays by Agent 2:\", outcomes.count([0, None]))"
   ]
  },
  {
   "cell_type": "code",
   "execution_count": null,
   "metadata": {},
   "outputs": [],
   "source": [
    "get_win_percentages(agent1=testagent, agent2=\"negamax\")"
   ]
  },
  {
   "cell_type": "code",
   "execution_count": null,
   "metadata": {},
   "outputs": [],
   "source": [
    "get_win_percentages(agent1=testagent, agent2=\"random\")"
   ]
  },
  {
   "cell_type": "code",
   "execution_count": null,
   "metadata": {},
   "outputs": [],
   "source": [
    "env = make(\"connectx\", debug=True)\n",
    "\n",
    "# Two random agents play one game round\n",
    "env.run([testagent, \"negamax\"])\n",
    "\n",
    "# Show the game\n",
    "env.render(mode=\"ipython\")"
   ]
  },
  {
   "cell_type": "code",
   "execution_count": null,
   "metadata": {},
   "outputs": [],
   "source": [
    "agent = sb3.PPO.load(MODEL_PATH)"
   ]
  },
  {
   "cell_type": "code",
   "execution_count": null,
   "metadata": {},
   "outputs": [],
   "source": [
    "agent.policy.state_dict().keys()"
   ]
  },
  {
   "cell_type": "code",
   "execution_count": null,
   "metadata": {},
   "outputs": [],
   "source": [
    "env = make(\"connectx\", debug=True)\n",
    "env.run([agent, agent])"
   ]
  }
 ],
 "metadata": {
  "kernelspec": {
   "display_name": ".venv",
   "language": "python",
   "name": "python3"
  },
  "language_info": {
   "codemirror_mode": {
    "name": "ipython",
    "version": 3
   },
   "file_extension": ".py",
   "mimetype": "text/x-python",
   "name": "python",
   "nbconvert_exporter": "python",
   "pygments_lexer": "ipython3",
   "version": "3.11.4"
  },
  "orig_nbformat": 4
 },
 "nbformat": 4,
 "nbformat_minor": 2
}
